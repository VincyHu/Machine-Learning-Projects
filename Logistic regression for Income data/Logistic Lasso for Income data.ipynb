{
 "cells": [
  {
   "cell_type": "code",
   "execution_count": 52,
   "metadata": {},
   "outputs": [],
   "source": [
    "import numpy as np\n",
    "import pandas as pd\n",
    "import seaborn as sns\n",
    "import matplotlib.pyplot as plt\n",
    "from sklearn.preprocessing import LabelEncoder\n",
    "from sklearn import preprocessing\n",
    "from sklearn.linear_model import LogisticRegression\n",
    "from sklearn.model_selection import train_test_split\n",
    "from sklearn.linear_model import LogisticRegression\n",
    "from sklearn.preprocessing import scale\n",
    "from sklearn.linear_model import Lasso, LassoCV, Ridge, RidgeCV\n",
    "from sklearn.model_selection import cross_validate\n",
    "from sklearn.metrics import mean_squared_error\n",
    "from sklearn.preprocessing import StandardScaler\n",
    "from sklearn import metrics\n",
    "from sklearn.feature_selection import SelectFromModel"
   ]
  },
  {
   "cell_type": "code",
   "execution_count": 8,
   "metadata": {},
   "outputs": [],
   "source": [
    "import pandas as pd"
   ]
  },
  {
   "cell_type": "markdown",
   "metadata": {},
   "source": [
    "# Import the Dataset"
   ]
  },
  {
   "cell_type": "code",
   "execution_count": 9,
   "metadata": {},
   "outputs": [],
   "source": [
    "income_ds = pd.read_csv(\"income_data.csv\", sep=r'\\s*,\\s*', engine='python')"
   ]
  },
  {
   "cell_type": "code",
   "execution_count": 10,
   "metadata": {},
   "outputs": [
    {
     "name": "stdout",
     "output_type": "stream",
     "text": [
      "<class 'pandas.core.frame.DataFrame'>\n",
      "RangeIndex: 32561 entries, 0 to 32560\n",
      "Data columns (total 15 columns):\n",
      "age               32561 non-null int64\n",
      "workclass         32561 non-null object\n",
      "fnlwgt            32561 non-null int64\n",
      "education         32561 non-null object\n",
      "education-num     32561 non-null int64\n",
      "marital-status    32561 non-null object\n",
      "occupation        32561 non-null object\n",
      "relationship      32561 non-null object\n",
      "race              32561 non-null object\n",
      "sex               32561 non-null object\n",
      "capital-gain      32561 non-null int64\n",
      "capital-loss      32561 non-null int64\n",
      "hours-per-week    32561 non-null int64\n",
      "native-country    32561 non-null object\n",
      "income            32561 non-null object\n",
      "dtypes: int64(6), object(9)\n",
      "memory usage: 3.7+ MB\n"
     ]
    }
   ],
   "source": [
    "# have a peak on the dataset\n",
    "income_ds.info()"
   ]
  },
  {
   "cell_type": "code",
   "execution_count": 11,
   "metadata": {},
   "outputs": [
    {
     "data": {
      "text/plain": [
       "<bound method NDFrame.describe of        age         workclass  fnlwgt   education  education-num  \\\n",
       "0       39         State-gov   77516   Bachelors             13   \n",
       "1       50  Self-emp-not-inc   83311   Bachelors             13   \n",
       "2       38           Private  215646     HS-grad              9   \n",
       "3       53           Private  234721        11th              7   \n",
       "4       28           Private  338409   Bachelors             13   \n",
       "...    ...               ...     ...         ...            ...   \n",
       "32556   27           Private  257302  Assoc-acdm             12   \n",
       "32557   40           Private  154374     HS-grad              9   \n",
       "32558   58           Private  151910     HS-grad              9   \n",
       "32559   22           Private  201490     HS-grad              9   \n",
       "32560   52      Self-emp-inc  287927     HS-grad              9   \n",
       "\n",
       "           marital-status         occupation   relationship   race     sex  \\\n",
       "0           Never-married       Adm-clerical  Not-in-family  White    Male   \n",
       "1      Married-civ-spouse    Exec-managerial        Husband  White    Male   \n",
       "2                Divorced  Handlers-cleaners  Not-in-family  White    Male   \n",
       "3      Married-civ-spouse  Handlers-cleaners        Husband  Black    Male   \n",
       "4      Married-civ-spouse     Prof-specialty           Wife  Black  Female   \n",
       "...                   ...                ...            ...    ...     ...   \n",
       "32556  Married-civ-spouse       Tech-support           Wife  White  Female   \n",
       "32557  Married-civ-spouse  Machine-op-inspct        Husband  White    Male   \n",
       "32558             Widowed       Adm-clerical      Unmarried  White  Female   \n",
       "32559       Never-married       Adm-clerical      Own-child  White    Male   \n",
       "32560  Married-civ-spouse    Exec-managerial           Wife  White  Female   \n",
       "\n",
       "       capital-gain  capital-loss  hours-per-week native-country income  \n",
       "0              2174             0              40  United-States  <=50K  \n",
       "1                 0             0              13  United-States  <=50K  \n",
       "2                 0             0              40  United-States  <=50K  \n",
       "3                 0             0              40  United-States  <=50K  \n",
       "4                 0             0              40           Cuba  <=50K  \n",
       "...             ...           ...             ...            ...    ...  \n",
       "32556             0             0              38  United-States  <=50K  \n",
       "32557             0             0              40  United-States   >50K  \n",
       "32558             0             0              40  United-States  <=50K  \n",
       "32559             0             0              20  United-States  <=50K  \n",
       "32560         15024             0              40  United-States   >50K  \n",
       "\n",
       "[32561 rows x 15 columns]>"
      ]
     },
     "execution_count": 11,
     "metadata": {},
     "output_type": "execute_result"
    }
   ],
   "source": [
    "income_ds.describe"
   ]
  },
  {
   "cell_type": "code",
   "execution_count": 12,
   "metadata": {},
   "outputs": [
    {
     "data": {
      "text/plain": [
       "<bound method NDFrame.describe of        age         workclass  fnlwgt   education  education-num  \\\n",
       "0       39         State-gov   77516   Bachelors             13   \n",
       "1       50  Self-emp-not-inc   83311   Bachelors             13   \n",
       "2       38           Private  215646     HS-grad              9   \n",
       "3       53           Private  234721        11th              7   \n",
       "4       28           Private  338409   Bachelors             13   \n",
       "...    ...               ...     ...         ...            ...   \n",
       "32556   27           Private  257302  Assoc-acdm             12   \n",
       "32557   40           Private  154374     HS-grad              9   \n",
       "32558   58           Private  151910     HS-grad              9   \n",
       "32559   22           Private  201490     HS-grad              9   \n",
       "32560   52      Self-emp-inc  287927     HS-grad              9   \n",
       "\n",
       "           marital-status         occupation   relationship   race     sex  \\\n",
       "0           Never-married       Adm-clerical  Not-in-family  White    Male   \n",
       "1      Married-civ-spouse    Exec-managerial        Husband  White    Male   \n",
       "2                Divorced  Handlers-cleaners  Not-in-family  White    Male   \n",
       "3      Married-civ-spouse  Handlers-cleaners        Husband  Black    Male   \n",
       "4      Married-civ-spouse     Prof-specialty           Wife  Black  Female   \n",
       "...                   ...                ...            ...    ...     ...   \n",
       "32556  Married-civ-spouse       Tech-support           Wife  White  Female   \n",
       "32557  Married-civ-spouse  Machine-op-inspct        Husband  White    Male   \n",
       "32558             Widowed       Adm-clerical      Unmarried  White  Female   \n",
       "32559       Never-married       Adm-clerical      Own-child  White    Male   \n",
       "32560  Married-civ-spouse    Exec-managerial           Wife  White  Female   \n",
       "\n",
       "       capital-gain  capital-loss  hours-per-week native-country income  \n",
       "0              2174             0              40  United-States  <=50K  \n",
       "1                 0             0              13  United-States  <=50K  \n",
       "2                 0             0              40  United-States  <=50K  \n",
       "3                 0             0              40  United-States  <=50K  \n",
       "4                 0             0              40           Cuba  <=50K  \n",
       "...             ...           ...             ...            ...    ...  \n",
       "32556             0             0              38  United-States  <=50K  \n",
       "32557             0             0              40  United-States   >50K  \n",
       "32558             0             0              40  United-States  <=50K  \n",
       "32559             0             0              20  United-States  <=50K  \n",
       "32560         15024             0              40  United-States   >50K  \n",
       "\n",
       "[32561 rows x 15 columns]>"
      ]
     },
     "execution_count": 12,
     "metadata": {},
     "output_type": "execute_result"
    }
   ],
   "source": [
    "income_ds.describe"
   ]
  },
  {
   "cell_type": "markdown",
   "metadata": {},
   "source": [
    "# Visualize and Explore"
   ]
  },
  {
   "cell_type": "markdown",
   "metadata": {},
   "source": [
    "**- How's the age distributed and how age distributed differently for <=50k group and >50k group?**"
   ]
  },
  {
   "cell_type": "code",
   "execution_count": 15,
   "metadata": {},
   "outputs": [
    {
     "data": {
      "text/plain": [
       "<matplotlib.axes._subplots.AxesSubplot at 0x20de75d0710>"
      ]
     },
     "execution_count": 15,
     "metadata": {},
     "output_type": "execute_result"
    },
    {
     "data": {
      "image/png": "[encoded data removed]",
      "text/plain": [
       "<Figure size 1008x360 with 2 Axes>"
      ]
     },
     "metadata": {
      "needs_background": "light"
     },
     "output_type": "display_data"
    }
   ],
   "source": [
    "f, axes = plt.subplots(1, 2, figsize=(14, 5), sharex=False)\n",
    "axes[0].set_title(\"income<=50K\")\n",
    "axes[1].set_title(\"income>50K\")\n",
    "\n",
    "sns.distplot(income_ds[income_ds[\"income\"]==\"<=50K\"][\"age\"],\n",
    "             hist=True,kde=False,bins=10,ax=axes[0],color=\"skyblue\")\n",
    "sns.distplot(income_ds[income_ds[\"income\"]==\">50K\"][\"age\"], hist=True,kde=False,bins=10,ax=axes[1], label=\"income>50K\",color=\"olive\")"
   ]
  },
  {
   "cell_type": "markdown",
   "metadata": {},
   "source": [
    "From the histogram plot above, we found that most of people who earn >50K are around 35-55 years old.While people earning <=50K has decreasing distribution with age increasing.  \n",
    "  \n",
    "There is no abnormal  "
   ]
  },
  {
   "cell_type": "markdown",
   "metadata": {},
   "source": [
    "**- What about age?**"
   ]
  },
  {
   "cell_type": "code",
   "execution_count": 16,
   "metadata": {},
   "outputs": [
    {
     "data": {
      "text/plain": [
       "<matplotlib.axes._subplots.AxesSubplot at 0x20de7249710>"
      ]
     },
     "execution_count": 16,
     "metadata": {},
     "output_type": "execute_result"
    },
    {
     "data": {
      "image/png": "[encoded data removed]",
      "text/plain": [
       "<Figure size 432x288 with 1 Axes>"
      ]
     },
     "metadata": {
      "needs_background": "light"
     },
     "output_type": "display_data"
    }
   ],
   "source": [
    "sns.countplot(x=income_ds[\"sex\"],hue=income_ds[\"income\"],palette=\"Set1\")"
   ]
  },
  {
   "cell_type": "markdown",
   "metadata": {},
   "source": [
    "Oh, we found that mor male observation than female in our dataset.  \n",
    "And it seems that proportion of male getting mroe than >50K is larger than proportion of female.  "
   ]
  },
  {
   "cell_type": "markdown",
   "metadata": {},
   "source": [
    "**- How is income different among workclass?**"
   ]
  },
  {
   "cell_type": "code",
   "execution_count": 17,
   "metadata": {},
   "outputs": [
    {
     "data": {
      "text/plain": [
       "[Text(0, 0, 'State-gov'),\n",
       " Text(0, 0, 'Self-emp-not-inc'),\n",
       " Text(0, 0, 'Private'),\n",
       " Text(0, 0, 'Federal-gov'),\n",
       " Text(0, 0, 'Local-gov'),\n",
       " Text(0, 0, '?'),\n",
       " Text(0, 0, 'Self-emp-inc'),\n",
       " Text(0, 0, 'Without-pay'),\n",
       " Text(0, 0, 'Never-worked')]"
      ]
     },
     "execution_count": 17,
     "metadata": {},
     "output_type": "execute_result"
    },
    {
     "data": {
      "image/png": "[encoded data removed]",
      "text/plain": [
       "<Figure size 1008x360 with 2 Axes>"
      ]
     },
     "metadata": {
      "needs_background": "light"
     },
     "output_type": "display_data"
    }
   ],
   "source": [
    "f, axes = plt.subplots(1, 2, figsize=(14, 5), sharex=False)\n",
    "\n",
    "# f1=sns.barplot(x=income_ds[\"workclass\"].value_counts().keys(), y=income_ds[\"workclass\"].value_counts().values, data=income_ds,ax=axes[0])\n",
    "# f1.set_xticklabels(f1.get_xticklabels(),rotation=45, horizontalalignment='right')\n",
    "\n",
    "f1=sns.countplot(data=income_ds,x='workclass',palette='Set1',ax=axes[0])\n",
    "f1.set_xticklabels(f1.get_xticklabels(),rotation=45, horizontalalignment='right')\n",
    "\n",
    "f2=sns.countplot(data=income_ds,x='workclass',hue = 'income',palette='Set1',ax=axes[1])\n",
    "f2.set_xticklabels(f2.get_xticklabels(),rotation=45, horizontalalignment='right')\n"
   ]
  },
  {
   "cell_type": "markdown",
   "metadata": {},
   "source": [
    "We found that most of observaton in the dataset are in \"Private\" workclass.  \n",
    "Only \"Self-emp-inc\" has more people earning >50k than people earning <=50k.\n",
    "\n",
    "(Note that there is one abnormal workclass \"?\" that needs to be deleted in next step.)\n",
    "\n"
   ]
  },
  {
   "cell_type": "markdown",
   "metadata": {},
   "source": [
    "**- How will capital gain of loss affecting the pay?**"
   ]
  },
  {
   "cell_type": "code",
   "execution_count": 18,
   "metadata": {},
   "outputs": [
    {
     "data": {
      "text/plain": [
       "<matplotlib.axes._subplots.AxesSubplot at 0x20de746bdd8>"
      ]
     },
     "execution_count": 18,
     "metadata": {},
     "output_type": "execute_result"
    },
    {
     "data": {
      "image/png": "[encoded data removed]",
      "text/plain": [
       "<Figure size 1008x360 with 2 Axes>"
      ]
     },
     "metadata": {
      "needs_background": "light"
     },
     "output_type": "display_data"
    }
   ],
   "source": [
    "f, axes = plt.subplots(1, 2, figsize=(14, 5), sharex=False)\n",
    "axes[0].set_title(\"Capital-gain versus Income\")\n",
    "axes[1].set_title(\"Capital-loss versus Income\")\n",
    "\n",
    "sns.violinplot(x=income_ds[\"income\"], y=income_ds[\"capital-gain\"],ax=axes[0])\n",
    "sns.violinplot(x=income_ds[\"income\"], y=income_ds[\"capital-loss\"],ax=axes[1])"
   ]
  },
  {
   "cell_type": "markdown",
   "metadata": {},
   "source": [
    "It seems there's no much big difference in capital gain or loss for two groups of observation,except that people earning more than 50k may have higher capital gain than people earning less."
   ]
  },
  {
   "cell_type": "markdown",
   "metadata": {},
   "source": [
    "**- And what about the marital status and education level?**"
   ]
  },
  {
   "cell_type": "markdown",
   "metadata": {},
   "source": [
    "Both *education_num* and *education* indicates the education level, we here would ue the *education* because it's more clear to bucket the education level in different category instead of years of education."
   ]
  },
  {
   "cell_type": "code",
   "execution_count": 19,
   "metadata": {},
   "outputs": [
    {
     "data": {
      "text/plain": [
       "[Text(0, 0, 'Bachelors'),\n",
       " Text(0, 0, 'HS-grad'),\n",
       " Text(0, 0, '11th'),\n",
       " Text(0, 0, 'Masters'),\n",
       " Text(0, 0, '9th'),\n",
       " Text(0, 0, 'Some-college'),\n",
       " Text(0, 0, 'Assoc-acdm'),\n",
       " Text(0, 0, 'Assoc-voc'),\n",
       " Text(0, 0, '7th-8th'),\n",
       " Text(0, 0, 'Doctorate'),\n",
       " Text(0, 0, 'Prof-school'),\n",
       " Text(0, 0, '5th-6th'),\n",
       " Text(0, 0, '10th'),\n",
       " Text(0, 0, '1st-4th'),\n",
       " Text(0, 0, 'Preschool'),\n",
       " Text(0, 0, '12th')]"
      ]
     },
     "execution_count": 19,
     "metadata": {},
     "output_type": "execute_result"
    },
    {
     "data": {
      "image/png": "[encoded data removed]",
      "text/plain": [
       "<Figure size 720x504 with 1 Axes>"
      ]
     },
     "metadata": {
      "needs_background": "light"
     },
     "output_type": "display_data"
    }
   ],
   "source": [
    "f, axes = plt.subplots(1, 1, figsize=(10, 7), sharex=False)\n",
    "plt.xlabel('Count')\n",
    "g = sns.countplot(\n",
    "    data=income_ds,\n",
    "    x='education',\n",
    "    hue = 'income' ,\n",
    "    palette='Set1'\n",
    ")\n",
    "g.set_xticklabels(g.get_xticklabels(),rotation=45, horizontalalignment='right')"
   ]
  },
  {
   "cell_type": "markdown",
   "metadata": {},
   "source": [
    "The catogories of education are now in a little mess, and need to be cleaned further."
   ]
  },
  {
   "cell_type": "code",
   "execution_count": 20,
   "metadata": {},
   "outputs": [
    {
     "data": {
      "text/plain": [
       "[Text(0, 0, 'Never-married'),\n",
       " Text(0, 0, 'Married-civ-spouse'),\n",
       " Text(0, 0, 'Divorced'),\n",
       " Text(0, 0, 'Married-spouse-absent'),\n",
       " Text(0, 0, 'Separated'),\n",
       " Text(0, 0, 'Married-AF-spouse'),\n",
       " Text(0, 0, 'Widowed')]"
      ]
     },
     "execution_count": 20,
     "metadata": {},
     "output_type": "execute_result"
    },
    {
     "data": {
      "image/png": "[encoded data removed]",
      "text/plain": [
       "<Figure size 720x504 with 1 Axes>"
      ]
     },
     "metadata": {
      "needs_background": "light"
     },
     "output_type": "display_data"
    }
   ],
   "source": [
    "f, axes = plt.subplots(1, 1, figsize=(10, 7), sharex=False)\n",
    "g=sns.countplot(\n",
    "    data=income_ds,\n",
    "    x='marital-status',\n",
    "    hue='income',\n",
    "    palette='Set1'\n",
    ")\n",
    "g.set_xticklabels(g.get_xticklabels(),rotation=45, horizontalalignment='right')"
   ]
  },
  {
   "cell_type": "markdown",
   "metadata": {},
   "source": [
    "Ooh, more people in <=50K group are never married than married, while most of people who earn more than 50K are married people. Interesting.  \n",
    "(Note that married are splitted in three different married format which needs to be converged in later step!)"
   ]
  },
  {
   "cell_type": "markdown",
   "metadata": {},
   "source": [
    "**- Race and Country**"
   ]
  },
  {
   "cell_type": "code",
   "execution_count": 21,
   "metadata": {},
   "outputs": [
    {
     "data": {
      "text/plain": [
       "[Text(0, 0, 'White'),\n",
       " Text(0, 0, 'Black'),\n",
       " Text(0, 0, 'Asian-Pac-Islander'),\n",
       " Text(0, 0, 'Amer-Indian-Eskimo'),\n",
       " Text(0, 0, 'Other')]"
      ]
     },
     "execution_count": 21,
     "metadata": {},
     "output_type": "execute_result"
    },
    {
     "data": {
      "image/png": "[encoded data removed]",
      "text/plain": [
       "<Figure size 432x288 with 1 Axes>"
      ]
     },
     "metadata": {
      "needs_background": "light"
     },
     "output_type": "display_data"
    }
   ],
   "source": [
    "g=sns.countplot(x=income_ds[\"race\"], hue=income_ds[\"income\"],palette= \"Set1\")\n",
    "g.set_xticklabels(g.get_xticklabels(),rotation=45, horizontalalignment='right')"
   ]
  },
  {
   "cell_type": "code",
   "execution_count": 22,
   "metadata": {},
   "outputs": [
    {
     "data": {
      "text/plain": [
       "[Text(0, 0, 'United-States'),\n",
       " Text(0, 0, 'Cuba'),\n",
       " Text(0, 0, 'Jamaica'),\n",
       " Text(0, 0, 'India'),\n",
       " Text(0, 0, '?'),\n",
       " Text(0, 0, 'Mexico'),\n",
       " Text(0, 0, 'South'),\n",
       " Text(0, 0, 'Puerto-Rico'),\n",
       " Text(0, 0, 'Honduras'),\n",
       " Text(0, 0, 'England'),\n",
       " Text(0, 0, 'Canada'),\n",
       " Text(0, 0, 'Germany'),\n",
       " Text(0, 0, 'Iran'),\n",
       " Text(0, 0, 'Philippines'),\n",
       " Text(0, 0, 'Italy'),\n",
       " Text(0, 0, 'Poland'),\n",
       " Text(0, 0, 'Columbia'),\n",
       " Text(0, 0, 'Cambodia'),\n",
       " Text(0, 0, 'Thailand'),\n",
       " Text(0, 0, 'Ecuador'),\n",
       " Text(0, 0, 'Laos'),\n",
       " Text(0, 0, 'Taiwan'),\n",
       " Text(0, 0, 'Haiti'),\n",
       " Text(0, 0, 'Portugal'),\n",
       " Text(0, 0, 'Dominican-Republic'),\n",
       " Text(0, 0, 'El-Salvador'),\n",
       " Text(0, 0, 'France'),\n",
       " Text(0, 0, 'Guatemala'),\n",
       " Text(0, 0, 'China'),\n",
       " Text(0, 0, 'Japan'),\n",
       " Text(0, 0, 'Yugoslavia'),\n",
       " Text(0, 0, 'Peru'),\n",
       " Text(0, 0, 'Outlying-US(Guam-USVI-etc)'),\n",
       " Text(0, 0, 'Scotland'),\n",
       " Text(0, 0, 'Trinadad&Tobago'),\n",
       " Text(0, 0, 'Greece'),\n",
       " Text(0, 0, 'Nicaragua'),\n",
       " Text(0, 0, 'Vietnam'),\n",
       " Text(0, 0, 'Hong'),\n",
       " Text(0, 0, 'Ireland'),\n",
       " Text(0, 0, 'Hungary'),\n",
       " Text(0, 0, 'Holand-Netherlands')]"
      ]
     },
     "execution_count": 22,
     "metadata": {},
     "output_type": "execute_result"
    },
    {
     "data": {
      "image/png": "[encoded data removed]",
      "text/plain": [
       "<Figure size 432x288 with 1 Axes>"
      ]
     },
     "metadata": {
      "needs_background": "light"
     },
     "output_type": "display_data"
    }
   ],
   "source": [
    "g=sns.countplot(x=income_ds[\"native-country\"], hue=income_ds[\"income\"],palette= \"Set1\")\n",
    "g.set_xticklabels(g.get_xticklabels(),rotation=45, horizontalalignment='right')"
   ]
  },
  {
   "cell_type": "markdown",
   "metadata": {},
   "source": [
    "There are too many categories in country,and most countries have too few observations."
   ]
  },
  {
   "cell_type": "code",
   "execution_count": 23,
   "metadata": {
    "scrolled": true
   },
   "outputs": [
    {
     "data": {
      "text/plain": [
       "<matplotlib.axes._subplots.AxesSubplot at 0x20de8333d68>"
      ]
     },
     "execution_count": 23,
     "metadata": {},
     "output_type": "execute_result"
    },
    {
     "data": {
      "image/png": "[encoded data removed]",
      "text/plain": [
       "<Figure size 432x288 with 1 Axes>"
      ]
     },
     "metadata": {
      "needs_background": "light"
     },
     "output_type": "display_data"
    }
   ],
   "source": [
    "# hours work\n",
    "sns.violinplot(x=income_ds[\"income\"], y=income_ds[\"hours-per-week\"])"
   ]
  },
  {
   "cell_type": "markdown",
   "metadata": {},
   "source": [
    "**- Finally,let's check the balance of target income group**"
   ]
  },
  {
   "cell_type": "code",
   "execution_count": 24,
   "metadata": {},
   "outputs": [
    {
     "data": {
      "text/plain": [
       "<=50K    24720\n",
       ">50K      7841\n",
       "Name: income, dtype: int64"
      ]
     },
     "execution_count": 24,
     "metadata": {},
     "output_type": "execute_result"
    }
   ],
   "source": [
    "income_ds[\"income\"].value_counts()"
   ]
  },
  {
   "cell_type": "markdown",
   "metadata": {},
   "source": [
    "It's not a much balanced data. But we can't use upsampling or downsampling to maniulate the sample size cause we don't know the real proportion of earning in the real population. "
   ]
  },
  {
   "cell_type": "markdown",
   "metadata": {},
   "source": [
    "---------------------------------------------------------"
   ]
  },
  {
   "cell_type": "markdown",
   "metadata": {},
   "source": [
    "# Data Cleaning"
   ]
  },
  {
   "cell_type": "code",
   "execution_count": 25,
   "metadata": {},
   "outputs": [],
   "source": [
    "clean = income_ds.copy()"
   ]
  },
  {
   "cell_type": "code",
   "execution_count": 26,
   "metadata": {},
   "outputs": [],
   "source": [
    "# delete the observation where workclass = \"?\"\n",
    "clean = clean.drop(clean[clean[\"workclass\"]==\"?\"].index, axis=0)"
   ]
  },
  {
   "cell_type": "code",
   "execution_count": 27,
   "metadata": {},
   "outputs": [
    {
     "data": {
      "text/plain": [
       "Married          14750\n",
       "Never-married     9917\n",
       "Divorced          4259\n",
       "Separated          959\n",
       "Widowed            840\n",
       "Name: marital-status, dtype: int64"
      ]
     },
     "execution_count": 27,
     "metadata": {},
     "output_type": "execute_result"
    }
   ],
   "source": [
    "# merging levels of education\n",
    "# since for those 1-12th grade, most of people have earnings <=50K, it's reasonable to merge them into one category due to less difference\n",
    "clean['education']=np.where((clean[\"education\"]==\"12th\")|(clean[\"education\"]==\"11th\")|(clean[\"education\"]==\"10th\")|\n",
    "                            (clean[\"education\"]==\"9th\")|(clean[\"education\"]==\"7th-8th\")|(clean[\"education\"]==\"5th-6th\")|\n",
    "                             (clean['education'] =='1st-4th')|(clean['education'] =='Preschool'),\n",
    "                            'Not-HS-Grad',clean['education'])\n",
    "clean['education']=np.where((clean[\"education\"]==\"Assoc-voc\")|(clean[\"education\"]==\"Assoc-acdm\"),\n",
    "                            'Assoc',clean['education'])\n",
    "\n",
    "clean[\"marital-status\"]=np.where((clean[\"marital-status\"]==\"Married-civ-spouse\")|(clean[\"marital-status\"]==\"Married-spouse-absent\")|\n",
    "                                  (clean[\"marital-status\"]==\"Married-AF-spouse\"),\"Married\", clean[\"marital-status\"])\n",
    "\n",
    "clean[\"marital-status\"].value_counts()"
   ]
  },
  {
   "cell_type": "markdown",
   "metadata": {},
   "source": [
    "**Encode the categorical variables.**"
   ]
  },
  {
   "cell_type": "markdown",
   "metadata": {},
   "source": [
    "1) For independent variables, since we will use logistic regression, we need to get all the variables dummied and get rid of the first dummied result."
   ]
  },
  {
   "cell_type": "code",
   "execution_count": 28,
   "metadata": {},
   "outputs": [
    {
     "data": {
      "text/html": [
       "<div>\n",
       "<style scoped>\n",
       "    .dataframe tbody tr th:only-of-type {\n",
       "        vertical-align: middle;\n",
       "    }\n",
       "\n",
       "    .dataframe tbody tr th {\n",
       "        vertical-align: top;\n",
       "    }\n",
       "\n",
       "    .dataframe thead th {\n",
       "        text-align: right;\n",
       "    }\n",
       "</style>\n",
       "<table border=\"1\" class=\"dataframe\">\n",
       "  <thead>\n",
       "    <tr style=\"text-align: right;\">\n",
       "      <th></th>\n",
       "      <th>age</th>\n",
       "      <th>fnlwgt</th>\n",
       "      <th>education-num</th>\n",
       "      <th>occupation</th>\n",
       "      <th>relationship</th>\n",
       "      <th>capital-gain</th>\n",
       "      <th>capital-loss</th>\n",
       "      <th>hours-per-week</th>\n",
       "      <th>native-country</th>\n",
       "      <th>income</th>\n",
       "      <th>...</th>\n",
       "      <th>race_Black</th>\n",
       "      <th>race_Other</th>\n",
       "      <th>race_White</th>\n",
       "      <th>education_Bachelors</th>\n",
       "      <th>education_Doctorate</th>\n",
       "      <th>education_HS-grad</th>\n",
       "      <th>education_Masters</th>\n",
       "      <th>education_Not-HS-Grad</th>\n",
       "      <th>education_Prof-school</th>\n",
       "      <th>education_Some-college</th>\n",
       "    </tr>\n",
       "  </thead>\n",
       "  <tbody>\n",
       "    <tr>\n",
       "      <td>0</td>\n",
       "      <td>39</td>\n",
       "      <td>77516</td>\n",
       "      <td>13</td>\n",
       "      <td>Adm-clerical</td>\n",
       "      <td>Not-in-family</td>\n",
       "      <td>2174</td>\n",
       "      <td>0</td>\n",
       "      <td>40</td>\n",
       "      <td>United-States</td>\n",
       "      <td>&lt;=50K</td>\n",
       "      <td>...</td>\n",
       "      <td>0</td>\n",
       "      <td>0</td>\n",
       "      <td>1</td>\n",
       "      <td>1</td>\n",
       "      <td>0</td>\n",
       "      <td>0</td>\n",
       "      <td>0</td>\n",
       "      <td>0</td>\n",
       "      <td>0</td>\n",
       "      <td>0</td>\n",
       "    </tr>\n",
       "    <tr>\n",
       "      <td>1</td>\n",
       "      <td>50</td>\n",
       "      <td>83311</td>\n",
       "      <td>13</td>\n",
       "      <td>Exec-managerial</td>\n",
       "      <td>Husband</td>\n",
       "      <td>0</td>\n",
       "      <td>0</td>\n",
       "      <td>13</td>\n",
       "      <td>United-States</td>\n",
       "      <td>&lt;=50K</td>\n",
       "      <td>...</td>\n",
       "      <td>0</td>\n",
       "      <td>0</td>\n",
       "      <td>1</td>\n",
       "      <td>1</td>\n",
       "      <td>0</td>\n",
       "      <td>0</td>\n",
       "      <td>0</td>\n",
       "      <td>0</td>\n",
       "      <td>0</td>\n",
       "      <td>0</td>\n",
       "    </tr>\n",
       "    <tr>\n",
       "      <td>2</td>\n",
       "      <td>38</td>\n",
       "      <td>215646</td>\n",
       "      <td>9</td>\n",
       "      <td>Handlers-cleaners</td>\n",
       "      <td>Not-in-family</td>\n",
       "      <td>0</td>\n",
       "      <td>0</td>\n",
       "      <td>40</td>\n",
       "      <td>United-States</td>\n",
       "      <td>&lt;=50K</td>\n",
       "      <td>...</td>\n",
       "      <td>0</td>\n",
       "      <td>0</td>\n",
       "      <td>1</td>\n",
       "      <td>0</td>\n",
       "      <td>0</td>\n",
       "      <td>1</td>\n",
       "      <td>0</td>\n",
       "      <td>0</td>\n",
       "      <td>0</td>\n",
       "      <td>0</td>\n",
       "    </tr>\n",
       "    <tr>\n",
       "      <td>3</td>\n",
       "      <td>53</td>\n",
       "      <td>234721</td>\n",
       "      <td>7</td>\n",
       "      <td>Handlers-cleaners</td>\n",
       "      <td>Husband</td>\n",
       "      <td>0</td>\n",
       "      <td>0</td>\n",
       "      <td>40</td>\n",
       "      <td>United-States</td>\n",
       "      <td>&lt;=50K</td>\n",
       "      <td>...</td>\n",
       "      <td>1</td>\n",
       "      <td>0</td>\n",
       "      <td>0</td>\n",
       "      <td>0</td>\n",
       "      <td>0</td>\n",
       "      <td>0</td>\n",
       "      <td>0</td>\n",
       "      <td>1</td>\n",
       "      <td>0</td>\n",
       "      <td>0</td>\n",
       "    </tr>\n",
       "    <tr>\n",
       "      <td>4</td>\n",
       "      <td>28</td>\n",
       "      <td>338409</td>\n",
       "      <td>13</td>\n",
       "      <td>Prof-specialty</td>\n",
       "      <td>Wife</td>\n",
       "      <td>0</td>\n",
       "      <td>0</td>\n",
       "      <td>40</td>\n",
       "      <td>Cuba</td>\n",
       "      <td>&lt;=50K</td>\n",
       "      <td>...</td>\n",
       "      <td>1</td>\n",
       "      <td>0</td>\n",
       "      <td>0</td>\n",
       "      <td>1</td>\n",
       "      <td>0</td>\n",
       "      <td>0</td>\n",
       "      <td>0</td>\n",
       "      <td>0</td>\n",
       "      <td>0</td>\n",
       "      <td>0</td>\n",
       "    </tr>\n",
       "  </tbody>\n",
       "</table>\n",
       "<p>5 rows × 33 columns</p>\n",
       "</div>"
      ],
      "text/plain": [
       "   age  fnlwgt  education-num         occupation   relationship  capital-gain  \\\n",
       "0   39   77516             13       Adm-clerical  Not-in-family          2174   \n",
       "1   50   83311             13    Exec-managerial        Husband             0   \n",
       "2   38  215646              9  Handlers-cleaners  Not-in-family             0   \n",
       "3   53  234721              7  Handlers-cleaners        Husband             0   \n",
       "4   28  338409             13     Prof-specialty           Wife             0   \n",
       "\n",
       "   capital-loss  hours-per-week native-country income  ...  race_Black  \\\n",
       "0             0              40  United-States  <=50K  ...           0   \n",
       "1             0              13  United-States  <=50K  ...           0   \n",
       "2             0              40  United-States  <=50K  ...           0   \n",
       "3             0              40  United-States  <=50K  ...           1   \n",
       "4             0              40           Cuba  <=50K  ...           1   \n",
       "\n",
       "   race_Other  race_White  education_Bachelors  education_Doctorate  \\\n",
       "0           0           1                    1                    0   \n",
       "1           0           1                    1                    0   \n",
       "2           0           1                    0                    0   \n",
       "3           0           0                    0                    0   \n",
       "4           0           0                    1                    0   \n",
       "\n",
       "   education_HS-grad  education_Masters  education_Not-HS-Grad  \\\n",
       "0                  0                  0                      0   \n",
       "1                  0                  0                      0   \n",
       "2                  1                  0                      0   \n",
       "3                  0                  0                      1   \n",
       "4                  0                  0                      0   \n",
       "\n",
       "   education_Prof-school  education_Some-college  \n",
       "0                      0                       0  \n",
       "1                      0                       0  \n",
       "2                      0                       0  \n",
       "3                      0                       0  \n",
       "4                      0                       0  \n",
       "\n",
       "[5 rows x 33 columns]"
      ]
     },
     "execution_count": 28,
     "metadata": {},
     "output_type": "execute_result"
    }
   ],
   "source": [
    "categori = {\"workclass\",\n",
    "            \"education\",\n",
    "            \"marital-status\",\n",
    "            \"race\",\n",
    "            \"sex\"\n",
    "           }\n",
    "for var in categori:\n",
    "    if var != 'income':\n",
    "        cat_list='var'+'_'+var\n",
    "        cat_list = pd.get_dummies(clean[var], prefix=var,drop_first=True)\n",
    "        clean = pd.concat([clean,cat_list], axis = 1)\n",
    "        clean = clean.drop(var, 1)\n",
    "clean.head()"
   ]
  },
  {
   "cell_type": "markdown",
   "metadata": {},
   "source": [
    "Drop the redundant variables."
   ]
  },
  {
   "cell_type": "code",
   "execution_count": 29,
   "metadata": {},
   "outputs": [
    {
     "data": {
      "text/html": [
       "<div>\n",
       "<style scoped>\n",
       "    .dataframe tbody tr th:only-of-type {\n",
       "        vertical-align: middle;\n",
       "    }\n",
       "\n",
       "    .dataframe tbody tr th {\n",
       "        vertical-align: top;\n",
       "    }\n",
       "\n",
       "    .dataframe thead th {\n",
       "        text-align: right;\n",
       "    }\n",
       "</style>\n",
       "<table border=\"1\" class=\"dataframe\">\n",
       "  <thead>\n",
       "    <tr style=\"text-align: right;\">\n",
       "      <th></th>\n",
       "      <th>age</th>\n",
       "      <th>fnlwgt</th>\n",
       "      <th>capital-gain</th>\n",
       "      <th>capital-loss</th>\n",
       "      <th>hours-per-week</th>\n",
       "      <th>income</th>\n",
       "      <th>marital-status_Married</th>\n",
       "      <th>marital-status_Never-married</th>\n",
       "      <th>marital-status_Separated</th>\n",
       "      <th>marital-status_Widowed</th>\n",
       "      <th>...</th>\n",
       "      <th>race_Black</th>\n",
       "      <th>race_Other</th>\n",
       "      <th>race_White</th>\n",
       "      <th>education_Bachelors</th>\n",
       "      <th>education_Doctorate</th>\n",
       "      <th>education_HS-grad</th>\n",
       "      <th>education_Masters</th>\n",
       "      <th>education_Not-HS-Grad</th>\n",
       "      <th>education_Prof-school</th>\n",
       "      <th>education_Some-college</th>\n",
       "    </tr>\n",
       "  </thead>\n",
       "  <tbody>\n",
       "    <tr>\n",
       "      <td>0</td>\n",
       "      <td>39</td>\n",
       "      <td>77516</td>\n",
       "      <td>2174</td>\n",
       "      <td>0</td>\n",
       "      <td>40</td>\n",
       "      <td>&lt;=50K</td>\n",
       "      <td>0</td>\n",
       "      <td>1</td>\n",
       "      <td>0</td>\n",
       "      <td>0</td>\n",
       "      <td>...</td>\n",
       "      <td>0</td>\n",
       "      <td>0</td>\n",
       "      <td>1</td>\n",
       "      <td>1</td>\n",
       "      <td>0</td>\n",
       "      <td>0</td>\n",
       "      <td>0</td>\n",
       "      <td>0</td>\n",
       "      <td>0</td>\n",
       "      <td>0</td>\n",
       "    </tr>\n",
       "    <tr>\n",
       "      <td>1</td>\n",
       "      <td>50</td>\n",
       "      <td>83311</td>\n",
       "      <td>0</td>\n",
       "      <td>0</td>\n",
       "      <td>13</td>\n",
       "      <td>&lt;=50K</td>\n",
       "      <td>1</td>\n",
       "      <td>0</td>\n",
       "      <td>0</td>\n",
       "      <td>0</td>\n",
       "      <td>...</td>\n",
       "      <td>0</td>\n",
       "      <td>0</td>\n",
       "      <td>1</td>\n",
       "      <td>1</td>\n",
       "      <td>0</td>\n",
       "      <td>0</td>\n",
       "      <td>0</td>\n",
       "      <td>0</td>\n",
       "      <td>0</td>\n",
       "      <td>0</td>\n",
       "    </tr>\n",
       "    <tr>\n",
       "      <td>2</td>\n",
       "      <td>38</td>\n",
       "      <td>215646</td>\n",
       "      <td>0</td>\n",
       "      <td>0</td>\n",
       "      <td>40</td>\n",
       "      <td>&lt;=50K</td>\n",
       "      <td>0</td>\n",
       "      <td>0</td>\n",
       "      <td>0</td>\n",
       "      <td>0</td>\n",
       "      <td>...</td>\n",
       "      <td>0</td>\n",
       "      <td>0</td>\n",
       "      <td>1</td>\n",
       "      <td>0</td>\n",
       "      <td>0</td>\n",
       "      <td>1</td>\n",
       "      <td>0</td>\n",
       "      <td>0</td>\n",
       "      <td>0</td>\n",
       "      <td>0</td>\n",
       "    </tr>\n",
       "    <tr>\n",
       "      <td>3</td>\n",
       "      <td>53</td>\n",
       "      <td>234721</td>\n",
       "      <td>0</td>\n",
       "      <td>0</td>\n",
       "      <td>40</td>\n",
       "      <td>&lt;=50K</td>\n",
       "      <td>1</td>\n",
       "      <td>0</td>\n",
       "      <td>0</td>\n",
       "      <td>0</td>\n",
       "      <td>...</td>\n",
       "      <td>1</td>\n",
       "      <td>0</td>\n",
       "      <td>0</td>\n",
       "      <td>0</td>\n",
       "      <td>0</td>\n",
       "      <td>0</td>\n",
       "      <td>0</td>\n",
       "      <td>1</td>\n",
       "      <td>0</td>\n",
       "      <td>0</td>\n",
       "    </tr>\n",
       "    <tr>\n",
       "      <td>4</td>\n",
       "      <td>28</td>\n",
       "      <td>338409</td>\n",
       "      <td>0</td>\n",
       "      <td>0</td>\n",
       "      <td>40</td>\n",
       "      <td>&lt;=50K</td>\n",
       "      <td>1</td>\n",
       "      <td>0</td>\n",
       "      <td>0</td>\n",
       "      <td>0</td>\n",
       "      <td>...</td>\n",
       "      <td>1</td>\n",
       "      <td>0</td>\n",
       "      <td>0</td>\n",
       "      <td>1</td>\n",
       "      <td>0</td>\n",
       "      <td>0</td>\n",
       "      <td>0</td>\n",
       "      <td>0</td>\n",
       "      <td>0</td>\n",
       "      <td>0</td>\n",
       "    </tr>\n",
       "  </tbody>\n",
       "</table>\n",
       "<p>5 rows × 29 columns</p>\n",
       "</div>"
      ],
      "text/plain": [
       "   age  fnlwgt  capital-gain  capital-loss  hours-per-week income  \\\n",
       "0   39   77516          2174             0              40  <=50K   \n",
       "1   50   83311             0             0              13  <=50K   \n",
       "2   38  215646             0             0              40  <=50K   \n",
       "3   53  234721             0             0              40  <=50K   \n",
       "4   28  338409             0             0              40  <=50K   \n",
       "\n",
       "   marital-status_Married  marital-status_Never-married  \\\n",
       "0                       0                             1   \n",
       "1                       1                             0   \n",
       "2                       0                             0   \n",
       "3                       1                             0   \n",
       "4                       1                             0   \n",
       "\n",
       "   marital-status_Separated  marital-status_Widowed  ...  race_Black  \\\n",
       "0                         0                       0  ...           0   \n",
       "1                         0                       0  ...           0   \n",
       "2                         0                       0  ...           0   \n",
       "3                         0                       0  ...           1   \n",
       "4                         0                       0  ...           1   \n",
       "\n",
       "   race_Other  race_White  education_Bachelors  education_Doctorate  \\\n",
       "0           0           1                    1                    0   \n",
       "1           0           1                    1                    0   \n",
       "2           0           1                    0                    0   \n",
       "3           0           0                    0                    0   \n",
       "4           0           0                    1                    0   \n",
       "\n",
       "   education_HS-grad  education_Masters  education_Not-HS-Grad  \\\n",
       "0                  0                  0                      0   \n",
       "1                  0                  0                      0   \n",
       "2                  1                  0                      0   \n",
       "3                  0                  0                      1   \n",
       "4                  0                  0                      0   \n",
       "\n",
       "   education_Prof-school  education_Some-college  \n",
       "0                      0                       0  \n",
       "1                      0                       0  \n",
       "2                      0                       0  \n",
       "3                      0                       0  \n",
       "4                      0                       0  \n",
       "\n",
       "[5 rows x 29 columns]"
      ]
     },
     "execution_count": 29,
     "metadata": {},
     "output_type": "execute_result"
    }
   ],
   "source": [
    "clean.drop([\"education-num\",\"relationship\",\"occupation\",\"native-country\"],axis=1,inplace=True)\n",
    "clean.head()"
   ]
  },
  {
   "cell_type": "markdown",
   "metadata": {},
   "source": [
    "2) Encode the target variables into 1(>50K)/0(<=50K) "
   ]
  },
  {
   "cell_type": "code",
   "execution_count": 30,
   "metadata": {},
   "outputs": [
    {
     "data": {
      "text/html": [
       "<div>\n",
       "<style scoped>\n",
       "    .dataframe tbody tr th:only-of-type {\n",
       "        vertical-align: middle;\n",
       "    }\n",
       "\n",
       "    .dataframe tbody tr th {\n",
       "        vertical-align: top;\n",
       "    }\n",
       "\n",
       "    .dataframe thead th {\n",
       "        text-align: right;\n",
       "    }\n",
       "</style>\n",
       "<table border=\"1\" class=\"dataframe\">\n",
       "  <thead>\n",
       "    <tr style=\"text-align: right;\">\n",
       "      <th></th>\n",
       "      <th>age</th>\n",
       "      <th>fnlwgt</th>\n",
       "      <th>capital-gain</th>\n",
       "      <th>capital-loss</th>\n",
       "      <th>hours-per-week</th>\n",
       "      <th>income</th>\n",
       "      <th>marital-status_Married</th>\n",
       "      <th>marital-status_Never-married</th>\n",
       "      <th>marital-status_Separated</th>\n",
       "      <th>marital-status_Widowed</th>\n",
       "      <th>...</th>\n",
       "      <th>race_Other</th>\n",
       "      <th>race_White</th>\n",
       "      <th>education_Bachelors</th>\n",
       "      <th>education_Doctorate</th>\n",
       "      <th>education_HS-grad</th>\n",
       "      <th>education_Masters</th>\n",
       "      <th>education_Not-HS-Grad</th>\n",
       "      <th>education_Prof-school</th>\n",
       "      <th>education_Some-college</th>\n",
       "      <th>y</th>\n",
       "    </tr>\n",
       "  </thead>\n",
       "  <tbody>\n",
       "    <tr>\n",
       "      <td>0</td>\n",
       "      <td>39</td>\n",
       "      <td>77516</td>\n",
       "      <td>2174</td>\n",
       "      <td>0</td>\n",
       "      <td>40</td>\n",
       "      <td>&lt;=50K</td>\n",
       "      <td>0</td>\n",
       "      <td>1</td>\n",
       "      <td>0</td>\n",
       "      <td>0</td>\n",
       "      <td>...</td>\n",
       "      <td>0</td>\n",
       "      <td>1</td>\n",
       "      <td>1</td>\n",
       "      <td>0</td>\n",
       "      <td>0</td>\n",
       "      <td>0</td>\n",
       "      <td>0</td>\n",
       "      <td>0</td>\n",
       "      <td>0</td>\n",
       "      <td>0</td>\n",
       "    </tr>\n",
       "    <tr>\n",
       "      <td>1</td>\n",
       "      <td>50</td>\n",
       "      <td>83311</td>\n",
       "      <td>0</td>\n",
       "      <td>0</td>\n",
       "      <td>13</td>\n",
       "      <td>&lt;=50K</td>\n",
       "      <td>1</td>\n",
       "      <td>0</td>\n",
       "      <td>0</td>\n",
       "      <td>0</td>\n",
       "      <td>...</td>\n",
       "      <td>0</td>\n",
       "      <td>1</td>\n",
       "      <td>1</td>\n",
       "      <td>0</td>\n",
       "      <td>0</td>\n",
       "      <td>0</td>\n",
       "      <td>0</td>\n",
       "      <td>0</td>\n",
       "      <td>0</td>\n",
       "      <td>0</td>\n",
       "    </tr>\n",
       "    <tr>\n",
       "      <td>2</td>\n",
       "      <td>38</td>\n",
       "      <td>215646</td>\n",
       "      <td>0</td>\n",
       "      <td>0</td>\n",
       "      <td>40</td>\n",
       "      <td>&lt;=50K</td>\n",
       "      <td>0</td>\n",
       "      <td>0</td>\n",
       "      <td>0</td>\n",
       "      <td>0</td>\n",
       "      <td>...</td>\n",
       "      <td>0</td>\n",
       "      <td>1</td>\n",
       "      <td>0</td>\n",
       "      <td>0</td>\n",
       "      <td>1</td>\n",
       "      <td>0</td>\n",
       "      <td>0</td>\n",
       "      <td>0</td>\n",
       "      <td>0</td>\n",
       "      <td>0</td>\n",
       "    </tr>\n",
       "    <tr>\n",
       "      <td>3</td>\n",
       "      <td>53</td>\n",
       "      <td>234721</td>\n",
       "      <td>0</td>\n",
       "      <td>0</td>\n",
       "      <td>40</td>\n",
       "      <td>&lt;=50K</td>\n",
       "      <td>1</td>\n",
       "      <td>0</td>\n",
       "      <td>0</td>\n",
       "      <td>0</td>\n",
       "      <td>...</td>\n",
       "      <td>0</td>\n",
       "      <td>0</td>\n",
       "      <td>0</td>\n",
       "      <td>0</td>\n",
       "      <td>0</td>\n",
       "      <td>0</td>\n",
       "      <td>1</td>\n",
       "      <td>0</td>\n",
       "      <td>0</td>\n",
       "      <td>0</td>\n",
       "    </tr>\n",
       "    <tr>\n",
       "      <td>4</td>\n",
       "      <td>28</td>\n",
       "      <td>338409</td>\n",
       "      <td>0</td>\n",
       "      <td>0</td>\n",
       "      <td>40</td>\n",
       "      <td>&lt;=50K</td>\n",
       "      <td>1</td>\n",
       "      <td>0</td>\n",
       "      <td>0</td>\n",
       "      <td>0</td>\n",
       "      <td>...</td>\n",
       "      <td>0</td>\n",
       "      <td>0</td>\n",
       "      <td>1</td>\n",
       "      <td>0</td>\n",
       "      <td>0</td>\n",
       "      <td>0</td>\n",
       "      <td>0</td>\n",
       "      <td>0</td>\n",
       "      <td>0</td>\n",
       "      <td>0</td>\n",
       "    </tr>\n",
       "    <tr>\n",
       "      <td>...</td>\n",
       "      <td>...</td>\n",
       "      <td>...</td>\n",
       "      <td>...</td>\n",
       "      <td>...</td>\n",
       "      <td>...</td>\n",
       "      <td>...</td>\n",
       "      <td>...</td>\n",
       "      <td>...</td>\n",
       "      <td>...</td>\n",
       "      <td>...</td>\n",
       "      <td>...</td>\n",
       "      <td>...</td>\n",
       "      <td>...</td>\n",
       "      <td>...</td>\n",
       "      <td>...</td>\n",
       "      <td>...</td>\n",
       "      <td>...</td>\n",
       "      <td>...</td>\n",
       "      <td>...</td>\n",
       "      <td>...</td>\n",
       "      <td>...</td>\n",
       "    </tr>\n",
       "    <tr>\n",
       "      <td>32556</td>\n",
       "      <td>27</td>\n",
       "      <td>257302</td>\n",
       "      <td>0</td>\n",
       "      <td>0</td>\n",
       "      <td>38</td>\n",
       "      <td>&lt;=50K</td>\n",
       "      <td>1</td>\n",
       "      <td>0</td>\n",
       "      <td>0</td>\n",
       "      <td>0</td>\n",
       "      <td>...</td>\n",
       "      <td>0</td>\n",
       "      <td>1</td>\n",
       "      <td>0</td>\n",
       "      <td>0</td>\n",
       "      <td>0</td>\n",
       "      <td>0</td>\n",
       "      <td>0</td>\n",
       "      <td>0</td>\n",
       "      <td>0</td>\n",
       "      <td>0</td>\n",
       "    </tr>\n",
       "    <tr>\n",
       "      <td>32557</td>\n",
       "      <td>40</td>\n",
       "      <td>154374</td>\n",
       "      <td>0</td>\n",
       "      <td>0</td>\n",
       "      <td>40</td>\n",
       "      <td>&gt;50K</td>\n",
       "      <td>1</td>\n",
       "      <td>0</td>\n",
       "      <td>0</td>\n",
       "      <td>0</td>\n",
       "      <td>...</td>\n",
       "      <td>0</td>\n",
       "      <td>1</td>\n",
       "      <td>0</td>\n",
       "      <td>0</td>\n",
       "      <td>1</td>\n",
       "      <td>0</td>\n",
       "      <td>0</td>\n",
       "      <td>0</td>\n",
       "      <td>0</td>\n",
       "      <td>1</td>\n",
       "    </tr>\n",
       "    <tr>\n",
       "      <td>32558</td>\n",
       "      <td>58</td>\n",
       "      <td>151910</td>\n",
       "      <td>0</td>\n",
       "      <td>0</td>\n",
       "      <td>40</td>\n",
       "      <td>&lt;=50K</td>\n",
       "      <td>0</td>\n",
       "      <td>0</td>\n",
       "      <td>0</td>\n",
       "      <td>1</td>\n",
       "      <td>...</td>\n",
       "      <td>0</td>\n",
       "      <td>1</td>\n",
       "      <td>0</td>\n",
       "      <td>0</td>\n",
       "      <td>1</td>\n",
       "      <td>0</td>\n",
       "      <td>0</td>\n",
       "      <td>0</td>\n",
       "      <td>0</td>\n",
       "      <td>0</td>\n",
       "    </tr>\n",
       "    <tr>\n",
       "      <td>32559</td>\n",
       "      <td>22</td>\n",
       "      <td>201490</td>\n",
       "      <td>0</td>\n",
       "      <td>0</td>\n",
       "      <td>20</td>\n",
       "      <td>&lt;=50K</td>\n",
       "      <td>0</td>\n",
       "      <td>1</td>\n",
       "      <td>0</td>\n",
       "      <td>0</td>\n",
       "      <td>...</td>\n",
       "      <td>0</td>\n",
       "      <td>1</td>\n",
       "      <td>0</td>\n",
       "      <td>0</td>\n",
       "      <td>1</td>\n",
       "      <td>0</td>\n",
       "      <td>0</td>\n",
       "      <td>0</td>\n",
       "      <td>0</td>\n",
       "      <td>0</td>\n",
       "    </tr>\n",
       "    <tr>\n",
       "      <td>32560</td>\n",
       "      <td>52</td>\n",
       "      <td>287927</td>\n",
       "      <td>15024</td>\n",
       "      <td>0</td>\n",
       "      <td>40</td>\n",
       "      <td>&gt;50K</td>\n",
       "      <td>1</td>\n",
       "      <td>0</td>\n",
       "      <td>0</td>\n",
       "      <td>0</td>\n",
       "      <td>...</td>\n",
       "      <td>0</td>\n",
       "      <td>1</td>\n",
       "      <td>0</td>\n",
       "      <td>0</td>\n",
       "      <td>1</td>\n",
       "      <td>0</td>\n",
       "      <td>0</td>\n",
       "      <td>0</td>\n",
       "      <td>0</td>\n",
       "      <td>1</td>\n",
       "    </tr>\n",
       "  </tbody>\n",
       "</table>\n",
       "<p>30725 rows × 30 columns</p>\n",
       "</div>"
      ],
      "text/plain": [
       "       age  fnlwgt  capital-gain  capital-loss  hours-per-week income  \\\n",
       "0       39   77516          2174             0              40  <=50K   \n",
       "1       50   83311             0             0              13  <=50K   \n",
       "2       38  215646             0             0              40  <=50K   \n",
       "3       53  234721             0             0              40  <=50K   \n",
       "4       28  338409             0             0              40  <=50K   \n",
       "...    ...     ...           ...           ...             ...    ...   \n",
       "32556   27  257302             0             0              38  <=50K   \n",
       "32557   40  154374             0             0              40   >50K   \n",
       "32558   58  151910             0             0              40  <=50K   \n",
       "32559   22  201490             0             0              20  <=50K   \n",
       "32560   52  287927         15024             0              40   >50K   \n",
       "\n",
       "       marital-status_Married  marital-status_Never-married  \\\n",
       "0                           0                             1   \n",
       "1                           1                             0   \n",
       "2                           0                             0   \n",
       "3                           1                             0   \n",
       "4                           1                             0   \n",
       "...                       ...                           ...   \n",
       "32556                       1                             0   \n",
       "32557                       1                             0   \n",
       "32558                       0                             0   \n",
       "32559                       0                             1   \n",
       "32560                       1                             0   \n",
       "\n",
       "       marital-status_Separated  marital-status_Widowed  ...  race_Other  \\\n",
       "0                             0                       0  ...           0   \n",
       "1                             0                       0  ...           0   \n",
       "2                             0                       0  ...           0   \n",
       "3                             0                       0  ...           0   \n",
       "4                             0                       0  ...           0   \n",
       "...                         ...                     ...  ...         ...   \n",
       "32556                         0                       0  ...           0   \n",
       "32557                         0                       0  ...           0   \n",
       "32558                         0                       1  ...           0   \n",
       "32559                         0                       0  ...           0   \n",
       "32560                         0                       0  ...           0   \n",
       "\n",
       "       race_White  education_Bachelors  education_Doctorate  \\\n",
       "0               1                    1                    0   \n",
       "1               1                    1                    0   \n",
       "2               1                    0                    0   \n",
       "3               0                    0                    0   \n",
       "4               0                    1                    0   \n",
       "...           ...                  ...                  ...   \n",
       "32556           1                    0                    0   \n",
       "32557           1                    0                    0   \n",
       "32558           1                    0                    0   \n",
       "32559           1                    0                    0   \n",
       "32560           1                    0                    0   \n",
       "\n",
       "       education_HS-grad  education_Masters  education_Not-HS-Grad  \\\n",
       "0                      0                  0                      0   \n",
       "1                      0                  0                      0   \n",
       "2                      1                  0                      0   \n",
       "3                      0                  0                      1   \n",
       "4                      0                  0                      0   \n",
       "...                  ...                ...                    ...   \n",
       "32556                  0                  0                      0   \n",
       "32557                  1                  0                      0   \n",
       "32558                  1                  0                      0   \n",
       "32559                  1                  0                      0   \n",
       "32560                  1                  0                      0   \n",
       "\n",
       "       education_Prof-school  education_Some-college  y  \n",
       "0                          0                       0  0  \n",
       "1                          0                       0  0  \n",
       "2                          0                       0  0  \n",
       "3                          0                       0  0  \n",
       "4                          0                       0  0  \n",
       "...                      ...                     ... ..  \n",
       "32556                      0                       0  0  \n",
       "32557                      0                       0  1  \n",
       "32558                      0                       0  0  \n",
       "32559                      0                       0  0  \n",
       "32560                      0                       0  1  \n",
       "\n",
       "[30725 rows x 30 columns]"
      ]
     },
     "execution_count": 30,
     "metadata": {},
     "output_type": "execute_result"
    }
   ],
   "source": [
    "clean[\"y\"]=LabelEncoder().fit_transform(clean.income)\n",
    "clean"
   ]
  },
  {
   "cell_type": "code",
   "execution_count": 31,
   "metadata": {},
   "outputs": [],
   "source": [
    "clean[\"y\"]=clean[\"y\"].astype(\"category\")"
   ]
  },
  {
   "cell_type": "code",
   "execution_count": 32,
   "metadata": {},
   "outputs": [
    {
     "name": "stdout",
     "output_type": "stream",
     "text": [
      "<class 'pandas.core.frame.DataFrame'>\n",
      "Int64Index: 30725 entries, 0 to 32560\n",
      "Data columns (total 30 columns):\n",
      "age                             30725 non-null int64\n",
      "fnlwgt                          30725 non-null int64\n",
      "capital-gain                    30725 non-null int64\n",
      "capital-loss                    30725 non-null int64\n",
      "hours-per-week                  30725 non-null int64\n",
      "income                          30725 non-null object\n",
      "marital-status_Married          30725 non-null uint8\n",
      "marital-status_Never-married    30725 non-null uint8\n",
      "marital-status_Separated        30725 non-null uint8\n",
      "marital-status_Widowed          30725 non-null uint8\n",
      "sex_Male                        30725 non-null uint8\n",
      "workclass_Local-gov             30725 non-null uint8\n",
      "workclass_Never-worked          30725 non-null uint8\n",
      "workclass_Private               30725 non-null uint8\n",
      "workclass_Self-emp-inc          30725 non-null uint8\n",
      "workclass_Self-emp-not-inc      30725 non-null uint8\n",
      "workclass_State-gov             30725 non-null uint8\n",
      "workclass_Without-pay           30725 non-null uint8\n",
      "race_Asian-Pac-Islander         30725 non-null uint8\n",
      "race_Black                      30725 non-null uint8\n",
      "race_Other                      30725 non-null uint8\n",
      "race_White                      30725 non-null uint8\n",
      "education_Bachelors             30725 non-null uint8\n",
      "education_Doctorate             30725 non-null uint8\n",
      "education_HS-grad               30725 non-null uint8\n",
      "education_Masters               30725 non-null uint8\n",
      "education_Not-HS-Grad           30725 non-null uint8\n",
      "education_Prof-school           30725 non-null uint8\n",
      "education_Some-college          30725 non-null uint8\n",
      "y                               30725 non-null category\n",
      "dtypes: category(1), int64(5), object(1), uint8(23)\n",
      "memory usage: 2.3+ MB\n"
     ]
    }
   ],
   "source": [
    "clean.info()"
   ]
  },
  {
   "cell_type": "markdown",
   "metadata": {},
   "source": [
    "---------------------------------"
   ]
  },
  {
   "cell_type": "markdown",
   "metadata": {},
   "source": [
    "# First fit all data with logistic regression first"
   ]
  },
  {
   "cell_type": "code",
   "execution_count": 33,
   "metadata": {},
   "outputs": [],
   "source": [
    "X=clean.copy().drop([\"income\",\"y\"], axis=1)\n",
    "y=clean.copy()[\"y\"]"
   ]
  },
  {
   "cell_type": "code",
   "execution_count": 34,
   "metadata": {},
   "outputs": [],
   "source": [
    "X_train, X_test, y_train, y_test= train_test_split(X, y, test_size=0.2,random_state=123, stratify=clean[\"y\"])"
   ]
  },
  {
   "cell_type": "code",
   "execution_count": 43,
   "metadata": {},
   "outputs": [
    {
     "name": "stdout",
     "output_type": "stream",
     "text": [
      "<class 'pandas.core.frame.DataFrame'>\n",
      "Int64Index: 24580 entries, 21804 to 3365\n",
      "Data columns (total 28 columns):\n",
      "age                             24580 non-null int64\n",
      "fnlwgt                          24580 non-null int64\n",
      "capital-gain                    24580 non-null int64\n",
      "capital-loss                    24580 non-null int64\n",
      "hours-per-week                  24580 non-null int64\n",
      "marital-status_Married          24580 non-null uint8\n",
      "marital-status_Never-married    24580 non-null uint8\n",
      "marital-status_Separated        24580 non-null uint8\n",
      "marital-status_Widowed          24580 non-null uint8\n",
      "sex_Male                        24580 non-null uint8\n",
      "workclass_Local-gov             24580 non-null uint8\n",
      "workclass_Never-worked          24580 non-null uint8\n",
      "workclass_Private               24580 non-null uint8\n",
      "workclass_Self-emp-inc          24580 non-null uint8\n",
      "workclass_Self-emp-not-inc      24580 non-null uint8\n",
      "workclass_State-gov             24580 non-null uint8\n",
      "workclass_Without-pay           24580 non-null uint8\n",
      "race_Asian-Pac-Islander         24580 non-null uint8\n",
      "race_Black                      24580 non-null uint8\n",
      "race_Other                      24580 non-null uint8\n",
      "race_White                      24580 non-null uint8\n",
      "education_Bachelors             24580 non-null uint8\n",
      "education_Doctorate             24580 non-null uint8\n",
      "education_HS-grad               24580 non-null uint8\n",
      "education_Masters               24580 non-null uint8\n",
      "education_Not-HS-Grad           24580 non-null uint8\n",
      "education_Prof-school           24580 non-null uint8\n",
      "education_Some-college          24580 non-null uint8\n",
      "dtypes: int64(5), uint8(23)\n",
      "memory usage: 1.7 MB\n"
     ]
    }
   ],
   "source": [
    "X_train.info()"
   ]
  },
  {
   "cell_type": "code",
   "execution_count": 35,
   "metadata": {},
   "outputs": [
    {
     "data": {
      "text/plain": [
       "LogisticRegression(C=1.0, class_weight=None, dual=False, fit_intercept=True,\n",
       "                   intercept_scaling=1, l1_ratio=None, max_iter=100,\n",
       "                   multi_class='auto', n_jobs=None, penalty='l2',\n",
       "                   random_state=None, solver='lbfgs', tol=0.0001, verbose=0,\n",
       "                   warm_start=False)"
      ]
     },
     "execution_count": 35,
     "metadata": {},
     "output_type": "execute_result"
    }
   ],
   "source": [
    "# Fitting logistic regression model\n",
    "logreg = LogisticRegression()\n",
    "logreg.fit(X_train, y_train)"
   ]
  },
  {
   "cell_type": "code",
   "execution_count": 36,
   "metadata": {},
   "outputs": [],
   "source": [
    "# write a function to get the prediction output\n",
    "def get_result(estimator, X_test, y_test):\n",
    "    titles_options = [(\"Confusion matrix, without normalization\", None),\n",
    "                      (\"Normalized confusion matrix\", 'true')]\n",
    "    for title, normalize in titles_options:\n",
    "        display = metrics.plot_confusion_matrix(\n",
    "                                     estimator,\n",
    "                                     X_test,\n",
    "                                     y_test,\n",
    "                                     labels = y_test.unique(),\n",
    "                                     cmap=plt.cm.Blues,\n",
    "                                     values_format = '.2f',\n",
    "                                     normalize = normalize) #if non-normalized, confusion matrix are counted in number;\n",
    "                                                            #if normalized, confusion matrix are shown in percentage\n",
    "        display.ax_.set_title(title)\n",
    "\n",
    "        print(title)\n",
    "        print(display.confusion_matrix)\n",
    "        \n",
    "    y_pred = estimator.predict(X_test)\n",
    "    summary = metrics.precision_recall_fscore_support(y_test, y_pred, pos_label=\">50K\")\n",
    "    print('\\n\\n')\n",
    "    print('class:  \\t<=50K\\t\\t>50K')\n",
    "    print('precision:\\t%.2f\\t\\t%.2f'%(summary[0][0],summary[0][1]))\n",
    "    print('recall:  \\t%.2f\\t\\t%.2f'%(summary[1][0],summary[1][1]))\n",
    "    print('f1_score:\\t%.2f\\t\\t%.2f'%(summary[2][0],summary[2][1]))\n",
    "    print('support:\\t%d\\t\\t%.d'%(summary[3][0],summary[3][1]))"
   ]
  },
  {
   "cell_type": "code",
   "execution_count": 37,
   "metadata": {
    "scrolled": false
   },
   "outputs": [
    {
     "name": "stdout",
     "output_type": "stream",
     "text": [
      "Confusion matrix, without normalization\n",
      "[[4432  183]\n",
      " [1107  423]]\n",
      "Normalized confusion matrix\n",
      "[[0.9603467  0.0396533 ]\n",
      " [0.72352941 0.27647059]]\n",
      "\n",
      "\n",
      "\n",
      "class:  \t<=50K\t\t>50K\n",
      "precision:\t0.80\t\t0.70\n",
      "recall:  \t0.96\t\t0.28\n",
      "f1_score:\t0.87\t\t0.40\n",
      "support:\t4615\t\t1530\n"
     ]
    },
    {
     "name": "stderr",
     "output_type": "stream",
     "text": [
      "C:\\Users\\86136\\Anaconda3\\lib\\site-packages\\sklearn\\metrics\\_classification.py:1321: UserWarning: Note that pos_label (set to '>50K') is ignored when average != 'binary' (got None). You may use labels=[pos_label] to specify a single positive class.\n",
      "  % (pos_label, average), UserWarning)\n"
     ]
    },
    {
     "data": {
      "image/png": "[encoded data removed]",
      "text/plain": [
       "<Figure size 432x288 with 2 Axes>"
      ]
     },
     "metadata": {
      "needs_background": "light"
     },
     "output_type": "display_data"
    },
    {
     "data": {
      "image/png": "[encoded data removed]",
      "text/plain": [
       "<Figure size 432x288 with 2 Axes>"
      ]
     },
     "metadata": {
      "needs_background": "light"
     },
     "output_type": "display_data"
    }
   ],
   "source": [
    "get_result(logreg, X_test, y_test)"
   ]
  },
  {
   "cell_type": "markdown",
   "metadata": {},
   "source": [
    "From the result output, we can notice that **recall** and **F1-score** of income>50k is pretty low.\n",
    "That is just for simply including all the features given in the dataset in the regression."
   ]
  },
  {
   "cell_type": "markdown",
   "metadata": {},
   "source": [
    "------------------------------------------"
   ]
  },
  {
   "cell_type": "markdown",
   "metadata": {},
   "source": [
    "What will happen if we exclude the unnecessary features by regularization?"
   ]
  },
  {
   "cell_type": "markdown",
   "metadata": {},
   "source": [
    "# Select Features"
   ]
  },
  {
   "cell_type": "code",
   "execution_count": 67,
   "metadata": {},
   "outputs": [
    {
     "data": {
      "text/plain": [
       "array([ True, False,  True,  True,  True,  True,  True, False, False,\n",
       "        True,  True, False,  True, False,  True,  True, False,  True,\n",
       "        True, False,  True,  True,  True,  True,  True,  True,  True,\n",
       "        True])"
      ]
     },
     "execution_count": 67,
     "metadata": {},
     "output_type": "execute_result"
    }
   ],
   "source": [
    "sel = SelectFromModel(LogisticRegression(penalty='l1',C=0.05, solver = \"liblinear\"))\n",
    "sel.fit(X_train, y_train)\n",
    "sel.get_support()"
   ]
  },
  {
   "cell_type": "code",
   "execution_count": 68,
   "metadata": {
    "scrolled": true
   },
   "outputs": [
    {
     "name": "stdout",
     "output_type": "stream",
     "text": [
      "Index(['age', 'capital-gain', 'capital-loss', 'hours-per-week',\n",
      "       'marital-status_Married', 'marital-status_Never-married', 'sex_Male',\n",
      "       'workclass_Local-gov', 'workclass_Private',\n",
      "       'workclass_Self-emp-not-inc', 'workclass_State-gov',\n",
      "       'race_Asian-Pac-Islander', 'race_Black', 'race_White',\n",
      "       'education_Bachelors', 'education_Doctorate', 'education_HS-grad',\n",
      "       'education_Masters', 'education_Not-HS-Grad', 'education_Prof-school',\n",
      "       'education_Some-college'],\n",
      "      dtype='object')\n"
     ]
    }
   ],
   "source": [
    "# get which feature is left after lasso \n",
    "print(X_train.columns[sel.get_support(indices=True)])"
   ]
  },
  {
   "cell_type": "code",
   "execution_count": 69,
   "metadata": {},
   "outputs": [],
   "source": [
    "X_train_lasso = model.transform(X_train)\n",
    "X_test_lasso = model.transform(X_test)"
   ]
  },
  {
   "cell_type": "code",
   "execution_count": 71,
   "metadata": {},
   "outputs": [
    {
     "name": "stdout",
     "output_type": "stream",
     "text": [
      "Confusion matrix, without normalization\n",
      "[[4281  334]\n",
      " [ 701  829]]\n",
      "Normalized confusion matrix\n",
      "[[0.9276273  0.0723727 ]\n",
      " [0.45816993 0.54183007]]\n",
      "\n",
      "\n",
      "\n",
      "class:  \t<=50K\t\t>50K\n",
      "precision:\t0.86\t\t0.71\n",
      "recall:  \t0.93\t\t0.54\n",
      "f1_score:\t0.89\t\t0.62\n",
      "support:\t4615\t\t1530\n"
     ]
    },
    {
     "name": "stderr",
     "output_type": "stream",
     "text": [
      "C:\\Users\\86136\\Anaconda3\\lib\\site-packages\\sklearn\\linear_model\\_logistic.py:940: ConvergenceWarning: lbfgs failed to converge (status=1):\n",
      "STOP: TOTAL NO. of ITERATIONS REACHED LIMIT.\n",
      "\n",
      "Increase the number of iterations (max_iter) or scale the data as shown in:\n",
      "    https://scikit-learn.org/stable/modules/preprocessing.html\n",
      "Please also refer to the documentation for alternative solver options:\n",
      "    https://scikit-learn.org/stable/modules/linear_model.html#logistic-regression\n",
      "  extra_warning_msg=_LOGISTIC_SOLVER_CONVERGENCE_MSG)\n",
      "C:\\Users\\86136\\Anaconda3\\lib\\site-packages\\sklearn\\metrics\\_classification.py:1321: UserWarning: Note that pos_label (set to '>50K') is ignored when average != 'binary' (got None). You may use labels=[pos_label] to specify a single positive class.\n",
      "  % (pos_label, average), UserWarning)\n"
     ]
    },
    {
     "data": {
      "image/png": "[encoded data removed]",
      "text/plain": [
       "<Figure size 432x288 with 2 Axes>"
      ]
     },
     "metadata": {
      "needs_background": "light"
     },
     "output_type": "display_data"
    },
    {
     "data": {
      "image/png": "[encoded data removed]",
      "text/plain": [
       "<Figure size 432x288 with 2 Axes>"
      ]
     },
     "metadata": {
      "needs_background": "light"
     },
     "output_type": "display_data"
    }
   ],
   "source": [
    "logreg = LogisticRegression()\n",
    "logreg.fit(X_train_lasso, y_train)\n",
    "get_result(logreg, X_test_lasso, y_test)"
   ]
  }
 ],
 "metadata": {
  "kernelspec": {
   "display_name": "Python 3",
   "language": "python",
   "name": "python3"
  },
  "language_info": {
   "codemirror_mode": {
    "name": "ipython",
    "version": 3
   },
   "file_extension": ".py",
   "mimetype": "text/x-python",
   "name": "python",
   "nbconvert_exporter": "python",
   "pygments_lexer": "ipython3",
   "version": "3.7.3"
  }
 },
 "nbformat": 4,
 "nbformat_minor": 2
}
